{
 "cells": [
  {
   "cell_type": "code",
   "execution_count": null,
   "id": "71ea34bd",
   "metadata": {},
   "outputs": [],
   "source": [
    "import pandas as pd\n",
    "import seaborn as sns\n",
    "import matplotlib.pyplot as plt"
   ]
  },
  {
   "cell_type": "code",
   "execution_count": null,
   "id": "3bd1661e",
   "metadata": {},
   "outputs": [],
   "source": [
    "df = pd.read_csv('FilterandFireData.csv')\n",
    "display(df)"
   ]
  },
  {
   "cell_type": "code",
   "execution_count": null,
   "id": "4887ed3c",
   "metadata": {},
   "outputs": [],
   "source": [
    "#extract those with 40ms to specifically extract the data\n",
    "forty_time = five_connections[five_connections['Time'] == 40]\n",
    "display(forty_time)"
   ]
  },
  {
   "cell_type": "code",
   "execution_count": null,
   "id": "ced5f652",
   "metadata": {},
   "outputs": [],
   "source": [
    "#barplot\n",
    "mean_accuracies = forty_time.groupby('digit')['Accuracy.FF'].mean()\n",
    "plt.figure(figsize=(10, 6)) # for changing the figure size\n",
    "mean_accuracies.plot(kind='bar', color= 'green')\n",
    "plt.title('Mean Accuracy for Each Digit (0-9)')\n",
    "plt.xlabel('Digits')\n",
    "plt.ylabel('Mean Accuracy.FF')\n",
    "plt.ylim(85,100) \n",
    "plt.grid(axis='y')\n",
    "plt.show()"
   ]
  },
  {
   "cell_type": "code",
   "execution_count": null,
   "id": "e09f0511",
   "metadata": {},
   "outputs": [],
   "source": [
    "#boxplot\n",
    "plt.figure(figsize=(10,6))\n",
    "#df.boxplot(column='Accuracy.FF', by='digit', grid = False)\n",
    "sns.boxplot(x='digit', y='Accuracy.FF', data=df, palette='pastel')\n",
    "plt.title('Boxplot of Accuracy for Each Digit (0-9)')\n",
    "plt.suptitle('')  # Suppress the default title to avoid duplication\n",
    "plt.xlabel('Digits')\n",
    "plt.ylabel('Accuracy.FF')\n",
    "plt.ylim(85, 100)  # Set the y-axis range\n",
    "plt.grid(axis='y')\n",
    "plt.grid(axis='x')\n",
    "plt.show()"
   ]
  },
  {
   "cell_type": "code",
   "execution_count": null,
   "id": "915a4518",
   "metadata": {},
   "outputs": [],
   "source": [
    "#histogram\n",
    "plt.figure(figsize=(10, 6))\n",
    "plt.hist(digit_9['Accuracy.FF'], bins=20, color='skyblue', edgecolor='black')\n",
    "plt.title('Histogram of Accuracy')\n",
    "plt.xlabel('Accuracy')\n",
    "plt.ylabel('Frequency')\n",
    "plt.grid(axis='y')\n",
    "plt.show()"
   ]
  },
  {
   "cell_type": "code",
   "execution_count": null,
   "id": "3dfdeb10",
   "metadata": {},
   "outputs": [],
   "source": [
    "#violin plot\n",
    "plt.figure(figsize=(10,6))\n",
    "sns.violinplot(x='digit', y='Accuracy.FF', data=df, inner=\"quartile\", palette='pastel')\n",
    "plt.title('Violin Plot of Accuracy for Each Digit (0-9)')\n",
    "plt.xlabel('Digits')\n",
    "plt.ylabel('Accuracy')\n",
    "plt.show()"
   ]
  },
  {
   "cell_type": "code",
   "execution_count": null,
   "id": "6941a7ce",
   "metadata": {},
   "outputs": [],
   "source": [
    "genes_data = pd.read_csv('heatmapExpressionData.csv')\n",
    "display(genes_data)\n",
    "genes = genes_data"
   ]
  },
  {
   "cell_type": "code",
   "execution_count": null,
   "id": "33e310ca",
   "metadata": {},
   "outputs": [],
   "source": [
    "genes.set_index('GeneName', inplace=True)\n",
    "\n",
    "#heatmap\n",
    "plt.figure(figsize=(12, 8)) #figsize 25,30 adequate to display all genes here\n",
    "sns.heatmap(genes, cmap='viridis',linewidths=0.5) #,yticklabels=True \n",
    "plt.title('Heatmap of Gene Expression Data')\n",
    "plt.xlabel('Samples')\n",
    "plt.ylabel('Genes')\n",
    "plt.show()"
   ]
  },
  {
   "cell_type": "code",
   "execution_count": null,
   "id": "9521c6be",
   "metadata": {},
   "outputs": [],
   "source": [
    "plt.figure(figsize=(10, 6))\n",
    "sns.scatterplot(x='NAc1', y='NAc4', data=genes)\n",
    "plt.title('Scatter Plot of Gene Expression')\n",
    "plt.grid(True)\n",
    "\n",
    "plt.show()"
   ]
  },
  {
   "cell_type": "code",
   "execution_count": null,
   "id": "b2865082",
   "metadata": {},
   "outputs": [],
   "source": [
    "transposed_genes = genes.set_index('GeneName').transpose()\n",
    "\n",
    "# Plot a line plot of the gene expression data\n",
    "plt.figure(figsize=(12, 8))\n",
    "#for gene in transposed_genes.columns:\n",
    "    #plt.plot(transposed_genes.index, transposed_genes[gene], label=gene)\n",
    "transposed_genes.plot(legend=False, alpha=0.5)\n",
    "plt.title('Line Plot of Gene Expression Data')\n",
    "plt.xlabel('Samples')\n",
    "plt.ylabel('Gene Expression')\n",
    "#plt.legend(loc='upper right', bbox_to_anchor=(1.25, 1))\n",
    "#plt.grid(True)\n",
    "plt.show()"
   ]
  }
 ],
 "metadata": {
  "kernelspec": {
   "display_name": "Python 3 (ipykernel)",
   "language": "python",
   "name": "python3"
  },
  "language_info": {
   "codemirror_mode": {
    "name": "ipython",
    "version": 3
   },
   "file_extension": ".py",
   "mimetype": "text/x-python",
   "name": "python",
   "nbconvert_exporter": "python",
   "pygments_lexer": "ipython3",
   "version": "3.9.12"
  }
 },
 "nbformat": 4,
 "nbformat_minor": 5
}
